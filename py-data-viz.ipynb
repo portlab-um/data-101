{
 "cells": [
  {
   "cell_type": "markdown",
   "metadata": {},
   "source": [
    "# Portlab Data Essentials - Data Manipulation & Visualization"
   ]
  },
  {
   "cell_type": "markdown",
   "metadata": {},
   "source": [
    "## Problem Statement"
   ]
  },
  {
   "cell_type": "markdown",
   "metadata": {},
   "source": []
  },
  {
   "cell_type": "markdown",
   "metadata": {},
   "source": [
    "## Scenario 1: Navigating Ambiguity"
   ]
  },
  {
   "cell_type": "markdown",
   "metadata": {},
   "source": [
    "You are handed some datasets at the start of your Portlab project. However, your client didn't have time to clean up the data for you and a lot of the cells seem to be empty. How many potential issues can you spot in the data provided here?\n",
    "\n",
    "**Learning goals:**\n",
    "- Understand that real-world data WILL be messy and requires back-and-forth communication.\n",
    "- Learn how to perform basic data cleaning and deal with missing data."
   ]
  },
  {
   "cell_type": "markdown",
   "metadata": {},
   "source": [
    "## Scenario 2: EDA"
   ]
  },
  {
   "cell_type": "markdown",
   "metadata": {},
   "source": [
    "You've finished cleaning the data. Now what? Try to gain a basic understanding of the dataset through some visualizations!\n",
    "\n",
    "**Learning goals:**\n",
    "- Learn how to perform a basic exploratory data analysis (EDA).\n",
    "- Grasp the basic principles of data visualization.\n",
    "- Expand your Google Sheets vocabulary and brush up on basic functions."
   ]
  },
  {
   "cell_type": "markdown",
   "metadata": {},
   "source": [
    "## Scenario 3: Deep Dive"
   ]
  },
  {
   "cell_type": "markdown",
   "metadata": {},
   "source": [
    "Your team has just finished communicating some preliminary findings to your client. They pointed out a couple of interesting trends and anomalies, and ask you to dig deeper and figure out WHY. \n",
    "\n",
    "**Learning goals:**\n",
    "- Learn how to create and utilize the powerful pivot table.\n",
    "- Get comfortable with more intermediate spreadsheet functions."
   ]
  },
  {
   "cell_type": "markdown",
   "metadata": {},
   "source": [
    "## Scenario 4: Storytelling"
   ]
  },
  {
   "cell_type": "markdown",
   "metadata": {},
   "source": [
    "Congrats! Your team has reached the end of the project and you're ready to compile your findings into a presentation. How can we put together a coherent and compelling story using visualizations?\n",
    "\n",
    "**Learning goals:**\n",
    "- Develop effective and expressive visualizations.\n",
    "- Knit together a story and narrative using your visualizations."
   ]
  }
 ],
 "metadata": {
  "language_info": {
   "name": "python"
  },
  "orig_nbformat": 4
 },
 "nbformat": 4,
 "nbformat_minor": 2
}
