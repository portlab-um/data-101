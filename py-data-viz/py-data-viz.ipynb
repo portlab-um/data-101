{
 "cells": [
  {
   "cell_type": "markdown",
   "metadata": {},
   "source": [
    "# Portlab Data Essentials - Data Manipulation & Visualization"
   ]
  },
  {
   "cell_type": "markdown",
   "metadata": {},
   "source": [
    "## Preface"
   ]
  },
  {
   "cell_type": "markdown",
   "metadata": {},
   "source": [
    "Before you start working on this tutorial, we do want to put this disclaimer out there — the exercises are created to give you an overview of the data analysis process you could expect to see in a Portlab project. Also, this tutorial strictly focuses on **data manipulation and visualization**, so we won't talk about more advanced methods, i.e., machine learning, in this tutorial yet. By no means does this exercise cover everything you'll face throughout the project. That being said, we do expect you to have a good grasp of the essentials we touched on here.\n",
    "\n",
    "Start off the tutorial by scanning the data and reading the **problem statement**, then move on from **one scenario to another in numeric order**! Each scenario has a number of **tasks** and **subtasks**, and **hints** that come with them to help you tackle the problems. Make sure to scroll right to see the tips (the ones with a light bulb on top) as well!\n",
    "\n",
    "Finally, we did our best to prepare and proofread the materials, but please let us know if you spot anything erroneous, odd, or just anything you disagree with. Thank you, and hope y'all have fun and learn a few tricks from the exercises!"
   ]
  },
  {
   "cell_type": "markdown",
   "metadata": {},
   "source": [
    "## Problem Statement"
   ]
  },
  {
   "cell_type": "markdown",
   "metadata": {},
   "source": [
    "**Mr Loanly** is a financial services startup that offers personal loans. Recently, they noticed that their borrowers' average default rate has skyrocketed. However, they currently don't have the capability to conduct in-depth analyses, and they also have limited understanding of their clients. Therefore, **Mr Loanly** would like your team to help them learn about their borrowers and identify trends that might be leading to the increased default rates."
   ]
  },
  {
   "cell_type": "markdown",
   "metadata": {},
   "source": [
    "## Data"
   ]
  },
  {
   "cell_type": "markdown",
   "metadata": {},
   "source": [
    "Your team has been paired with a financial services provider, **Mr Loanly**, as a client. They have provided you with two deidentified datasets, **loans.csv** and **borrowers.csv**, to start off.\n",
    "\n",
    "\\* The datasets were collected from here and further adapted for our example."
   ]
  },
  {
   "cell_type": "markdown",
   "metadata": {},
   "source": []
  },
  {
   "cell_type": "code",
   "execution_count": 3,
   "metadata": {},
   "outputs": [],
   "source": [
    "import pandas as pd\n",
    "\n",
    "loans = pd.read_csv(\"data/loans.csv\")\n",
    "borrowers = pd.read_csv(\"data/borrowers.csv\")"
   ]
  },
  {
   "cell_type": "code",
   "execution_count": 4,
   "metadata": {},
   "outputs": [
    {
     "data": {
      "text/html": [
       "<div>\n",
       "<style scoped>\n",
       "    .dataframe tbody tr th:only-of-type {\n",
       "        vertical-align: middle;\n",
       "    }\n",
       "\n",
       "    .dataframe tbody tr th {\n",
       "        vertical-align: top;\n",
       "    }\n",
       "\n",
       "    .dataframe thead th {\n",
       "        text-align: right;\n",
       "    }\n",
       "</style>\n",
       "<table border=\"1\" class=\"dataframe\">\n",
       "  <thead>\n",
       "    <tr style=\"text-align: right;\">\n",
       "      <th></th>\n",
       "      <th>loan_id</th>\n",
       "      <th>borrower_id</th>\n",
       "      <th>request_date</th>\n",
       "      <th>purpose</th>\n",
       "      <th>int_rate</th>\n",
       "      <th>installment</th>\n",
       "      <th>not_fully_paid</th>\n",
       "      <th>Unnamed: 7</th>\n",
       "      <th>loan_id.1</th>\n",
       "      <th>borrower_id.1</th>\n",
       "      <th>request_date.1</th>\n",
       "      <th>purpose.1</th>\n",
       "      <th>int_rate.1</th>\n",
       "      <th>installment.1</th>\n",
       "      <th>not_fully_paid.1</th>\n",
       "    </tr>\n",
       "  </thead>\n",
       "  <tbody>\n",
       "    <tr>\n",
       "      <th>0</th>\n",
       "      <td>L1000</td>\n",
       "      <td>B1102</td>\n",
       "      <td>44500.0</td>\n",
       "      <td>debt_consolidation</td>\n",
       "      <td>0.1545</td>\n",
       "      <td>453.52</td>\n",
       "      <td>0</td>\n",
       "      <td>NaN</td>\n",
       "      <td>L1000</td>\n",
       "      <td>B1102</td>\n",
       "      <td>9/28/2021</td>\n",
       "      <td>debt_consolidation</td>\n",
       "      <td>0.1545</td>\n",
       "      <td>453.52</td>\n",
       "      <td>0</td>\n",
       "    </tr>\n",
       "    <tr>\n",
       "      <th>1</th>\n",
       "      <td>L1001</td>\n",
       "      <td>B1435</td>\n",
       "      <td>44500.0</td>\n",
       "      <td>debt_consolidation</td>\n",
       "      <td>0.1183</td>\n",
       "      <td>533.46</td>\n",
       "      <td>0</td>\n",
       "      <td>NaN</td>\n",
       "      <td>L1001</td>\n",
       "      <td>B1435</td>\n",
       "      <td>10/12/2021</td>\n",
       "      <td>debt_consolidation</td>\n",
       "      <td>0.1183</td>\n",
       "      <td>533.46</td>\n",
       "      <td>0</td>\n",
       "    </tr>\n",
       "    <tr>\n",
       "      <th>2</th>\n",
       "      <td>L1002</td>\n",
       "      <td>B1860</td>\n",
       "      <td>44400.0</td>\n",
       "      <td>credit_card</td>\n",
       "      <td>0.1146</td>\n",
       "      <td>197.75</td>\n",
       "      <td>1</td>\n",
       "      <td>NaN</td>\n",
       "      <td>L1002</td>\n",
       "      <td>B1860</td>\n",
       "      <td>6/6/2021</td>\n",
       "      <td>credit_card</td>\n",
       "      <td>0.1146</td>\n",
       "      <td>197.75</td>\n",
       "      <td>1</td>\n",
       "    </tr>\n",
       "    <tr>\n",
       "      <th>3</th>\n",
       "      <td>L1003</td>\n",
       "      <td>B1270</td>\n",
       "      <td>44300.0</td>\n",
       "      <td>NaN</td>\n",
       "      <td>0.1646</td>\n",
       "      <td>106.16</td>\n",
       "      <td>0</td>\n",
       "      <td>NaN</td>\n",
       "      <td>L1003</td>\n",
       "      <td>B1270</td>\n",
       "      <td>3/16/2021</td>\n",
       "      <td>all_other</td>\n",
       "      <td>0.1646</td>\n",
       "      <td>106.16</td>\n",
       "      <td>0</td>\n",
       "    </tr>\n",
       "    <tr>\n",
       "      <th>4</th>\n",
       "      <td>L1004</td>\n",
       "      <td>B1106</td>\n",
       "      <td>44500.0</td>\n",
       "      <td>NaN</td>\n",
       "      <td>0.1221</td>\n",
       "      <td>159.92</td>\n",
       "      <td>0</td>\n",
       "      <td>NaN</td>\n",
       "      <td>L1004</td>\n",
       "      <td>B1106</td>\n",
       "      <td>10/15/2021</td>\n",
       "      <td>all_other</td>\n",
       "      <td>0.1221</td>\n",
       "      <td>159.92</td>\n",
       "      <td>0</td>\n",
       "    </tr>\n",
       "  </tbody>\n",
       "</table>\n",
       "</div>"
      ],
      "text/plain": [
       "  loan_id borrower_id  request_date             purpose  int_rate  \\\n",
       "0   L1000       B1102       44500.0  debt_consolidation    0.1545   \n",
       "1   L1001       B1435       44500.0  debt_consolidation    0.1183   \n",
       "2   L1002       B1860       44400.0         credit_card    0.1146   \n",
       "3   L1003       B1270       44300.0                 NaN    0.1646   \n",
       "4   L1004       B1106       44500.0                 NaN    0.1221   \n",
       "\n",
       "   installment  not_fully_paid  Unnamed: 7 loan_id.1 borrower_id.1  \\\n",
       "0       453.52               0         NaN     L1000         B1102   \n",
       "1       533.46               0         NaN     L1001         B1435   \n",
       "2       197.75               1         NaN     L1002         B1860   \n",
       "3       106.16               0         NaN     L1003         B1270   \n",
       "4       159.92               0         NaN     L1004         B1106   \n",
       "\n",
       "  request_date.1           purpose.1  int_rate.1  installment.1  \\\n",
       "0      9/28/2021  debt_consolidation      0.1545         453.52   \n",
       "1     10/12/2021  debt_consolidation      0.1183         533.46   \n",
       "2       6/6/2021         credit_card      0.1146         197.75   \n",
       "3      3/16/2021           all_other      0.1646         106.16   \n",
       "4     10/15/2021           all_other      0.1221         159.92   \n",
       "\n",
       "   not_fully_paid.1  \n",
       "0                 0  \n",
       "1                 0  \n",
       "2                 1  \n",
       "3                 0  \n",
       "4                 0  "
      ]
     },
     "execution_count": 4,
     "metadata": {},
     "output_type": "execute_result"
    }
   ],
   "source": [
    "loans.head()"
   ]
  },
  {
   "cell_type": "code",
   "execution_count": 5,
   "metadata": {},
   "outputs": [
    {
     "data": {
      "text/html": [
       "<div>\n",
       "<style scoped>\n",
       "    .dataframe tbody tr th:only-of-type {\n",
       "        vertical-align: middle;\n",
       "    }\n",
       "\n",
       "    .dataframe tbody tr th {\n",
       "        vertical-align: top;\n",
       "    }\n",
       "\n",
       "    .dataframe thead th {\n",
       "        text-align: right;\n",
       "    }\n",
       "</style>\n",
       "<table border=\"1\" class=\"dataframe\">\n",
       "  <thead>\n",
       "    <tr style=\"text-align: right;\">\n",
       "      <th></th>\n",
       "      <th>borrower_id</th>\n",
       "      <th>credit_policy</th>\n",
       "      <th>log_annual_inc</th>\n",
       "      <th>dti</th>\n",
       "      <th>fico</th>\n",
       "      <th>days_with_cr_line</th>\n",
       "      <th>revol_bal</th>\n",
       "      <th>revol_util</th>\n",
       "      <th>inq_last_6mths</th>\n",
       "      <th>delinq_2yrs</th>\n",
       "      <th>...</th>\n",
       "      <th>credit_policy.1</th>\n",
       "      <th>log_annual_inc.1</th>\n",
       "      <th>dti.1</th>\n",
       "      <th>fico.1</th>\n",
       "      <th>days_with_cr_line.1</th>\n",
       "      <th>revol_bal.1</th>\n",
       "      <th>revol_util.1</th>\n",
       "      <th>inq_last_6mths.1</th>\n",
       "      <th>delinq_2yrs.1</th>\n",
       "      <th>pub_rec.1</th>\n",
       "    </tr>\n",
       "  </thead>\n",
       "  <tbody>\n",
       "    <tr>\n",
       "      <th>0</th>\n",
       "      <td>B1102</td>\n",
       "      <td>0</td>\n",
       "      <td>10.596635</td>\n",
       "      <td>14.52</td>\n",
       "      <td>657</td>\n",
       "      <td>3810.00000</td>\n",
       "      <td>8545</td>\n",
       "      <td>82.2</td>\n",
       "      <td>3</td>\n",
       "      <td>0</td>\n",
       "      <td>...</td>\n",
       "      <td>0</td>\n",
       "      <td>10.596635</td>\n",
       "      <td>14.52</td>\n",
       "      <td>657</td>\n",
       "      <td>3810.00000</td>\n",
       "      <td>8545</td>\n",
       "      <td>82.2</td>\n",
       "      <td>3</td>\n",
       "      <td>0</td>\n",
       "      <td>0</td>\n",
       "    </tr>\n",
       "    <tr>\n",
       "      <th>1</th>\n",
       "      <td>B1435</td>\n",
       "      <td>1</td>\n",
       "      <td>11.156251</td>\n",
       "      <td>10.89</td>\n",
       "      <td>732</td>\n",
       "      <td>3600.00000</td>\n",
       "      <td>15942</td>\n",
       "      <td>40.9</td>\n",
       "      <td>3</td>\n",
       "      <td>0</td>\n",
       "      <td>...</td>\n",
       "      <td>1</td>\n",
       "      <td>11.156251</td>\n",
       "      <td>10.89</td>\n",
       "      <td>732</td>\n",
       "      <td>3600.00000</td>\n",
       "      <td>15942</td>\n",
       "      <td>40.9</td>\n",
       "      <td>3</td>\n",
       "      <td>0</td>\n",
       "      <td>0</td>\n",
       "    </tr>\n",
       "    <tr>\n",
       "      <th>2</th>\n",
       "      <td>B1860</td>\n",
       "      <td>1</td>\n",
       "      <td>10.348173</td>\n",
       "      <td>13.73</td>\n",
       "      <td>692</td>\n",
       "      <td>2069.95833</td>\n",
       "      <td>14154</td>\n",
       "      <td>85.8</td>\n",
       "      <td>0</td>\n",
       "      <td>0</td>\n",
       "      <td>...</td>\n",
       "      <td>1</td>\n",
       "      <td>10.348173</td>\n",
       "      <td>13.73</td>\n",
       "      <td>692</td>\n",
       "      <td>2069.95833</td>\n",
       "      <td>14154</td>\n",
       "      <td>85.8</td>\n",
       "      <td>0</td>\n",
       "      <td>0</td>\n",
       "      <td>0</td>\n",
       "    </tr>\n",
       "    <tr>\n",
       "      <th>3</th>\n",
       "      <td>B1270</td>\n",
       "      <td>0</td>\n",
       "      <td>11.002100</td>\n",
       "      <td>28.16</td>\n",
       "      <td>672</td>\n",
       "      <td>6480.04167</td>\n",
       "      <td>7846</td>\n",
       "      <td>25.8</td>\n",
       "      <td>4</td>\n",
       "      <td>1</td>\n",
       "      <td>...</td>\n",
       "      <td>0</td>\n",
       "      <td>11.002100</td>\n",
       "      <td>28.16</td>\n",
       "      <td>672</td>\n",
       "      <td>6480.04167</td>\n",
       "      <td>7846</td>\n",
       "      <td>25.8</td>\n",
       "      <td>4</td>\n",
       "      <td>1</td>\n",
       "      <td>0</td>\n",
       "    </tr>\n",
       "    <tr>\n",
       "      <th>4</th>\n",
       "      <td>B1106</td>\n",
       "      <td>1</td>\n",
       "      <td>11.127322</td>\n",
       "      <td>3.99</td>\n",
       "      <td>702</td>\n",
       "      <td>5040.00000</td>\n",
       "      <td>468</td>\n",
       "      <td>7.2</td>\n",
       "      <td>1</td>\n",
       "      <td>1</td>\n",
       "      <td>...</td>\n",
       "      <td>1</td>\n",
       "      <td>11.127322</td>\n",
       "      <td>3.99</td>\n",
       "      <td>702</td>\n",
       "      <td>5040.00000</td>\n",
       "      <td>468</td>\n",
       "      <td>7.2</td>\n",
       "      <td>1</td>\n",
       "      <td>1</td>\n",
       "      <td>0</td>\n",
       "    </tr>\n",
       "  </tbody>\n",
       "</table>\n",
       "<p>5 rows × 23 columns</p>\n",
       "</div>"
      ],
      "text/plain": [
       "  borrower_id  credit_policy  log_annual_inc    dti  fico  days_with_cr_line  \\\n",
       "0       B1102              0       10.596635  14.52   657         3810.00000   \n",
       "1       B1435              1       11.156251  10.89   732         3600.00000   \n",
       "2       B1860              1       10.348173  13.73   692         2069.95833   \n",
       "3       B1270              0       11.002100  28.16   672         6480.04167   \n",
       "4       B1106              1       11.127322   3.99   702         5040.00000   \n",
       "\n",
       "   revol_bal  revol_util  inq_last_6mths  delinq_2yrs  ...  credit_policy.1  \\\n",
       "0       8545        82.2               3            0  ...                0   \n",
       "1      15942        40.9               3            0  ...                1   \n",
       "2      14154        85.8               0            0  ...                1   \n",
       "3       7846        25.8               4            1  ...                0   \n",
       "4        468         7.2               1            1  ...                1   \n",
       "\n",
       "   log_annual_inc.1  dti.1  fico.1  days_with_cr_line.1  revol_bal.1  \\\n",
       "0         10.596635  14.52     657           3810.00000         8545   \n",
       "1         11.156251  10.89     732           3600.00000        15942   \n",
       "2         10.348173  13.73     692           2069.95833        14154   \n",
       "3         11.002100  28.16     672           6480.04167         7846   \n",
       "4         11.127322   3.99     702           5040.00000          468   \n",
       "\n",
       "   revol_util.1  inq_last_6mths.1  delinq_2yrs.1  pub_rec.1  \n",
       "0          82.2                 3              0          0  \n",
       "1          40.9                 3              0          0  \n",
       "2          85.8                 0              0          0  \n",
       "3          25.8                 4              1          0  \n",
       "4           7.2                 1              1          0  \n",
       "\n",
       "[5 rows x 23 columns]"
      ]
     },
     "execution_count": 5,
     "metadata": {},
     "output_type": "execute_result"
    }
   ],
   "source": [
    "borrowers.head()"
   ]
  },
  {
   "cell_type": "markdown",
   "metadata": {},
   "source": [
    "## Scenario 1: Navigating Ambiguity"
   ]
  },
  {
   "cell_type": "markdown",
   "metadata": {},
   "source": [
    "You are handed some datasets at the start of your Portlab project. However, your client didn't have time to clean up the data for you and a lot of the cells seem to be empty. How many potential issues can you spot in the data provided here?\n",
    "\n",
    "**Learning goals:**\n",
    "- Understand that real-world data WILL be messy and requires back-and-forth communication.\n",
    "- Learn how to perform basic data cleaning and deal with missing data."
   ]
  },
  {
   "cell_type": "markdown",
   "metadata": {},
   "source": [
    "### Task 1: Understanding the Data"
   ]
  },
  {
   "cell_type": "markdown",
   "metadata": {},
   "source": []
  },
  {
   "cell_type": "markdown",
   "metadata": {},
   "source": [
    "### Task 2: Missing Data"
   ]
  },
  {
   "cell_type": "markdown",
   "metadata": {},
   "source": []
  },
  {
   "cell_type": "markdown",
   "metadata": {},
   "source": [
    "### Task 3: Detecting Anomalies"
   ]
  },
  {
   "cell_type": "markdown",
   "metadata": {},
   "source": []
  },
  {
   "cell_type": "markdown",
   "metadata": {},
   "source": [
    "### Task 4: Standardizing Formats"
   ]
  },
  {
   "cell_type": "markdown",
   "metadata": {},
   "source": []
  },
  {
   "cell_type": "markdown",
   "metadata": {},
   "source": [
    "## Scenario 2: EDA"
   ]
  },
  {
   "cell_type": "markdown",
   "metadata": {},
   "source": [
    "You've finished cleaning the data. Now what? Try to gain a basic understanding of the dataset through some visualizations!\n",
    "\n",
    "**Learning goals:**\n",
    "- Learn how to perform a basic exploratory data analysis (EDA).\n",
    "- Grasp the basic principles of data visualization.\n",
    "- Expand your Google Sheets vocabulary and brush up on basic functions."
   ]
  },
  {
   "cell_type": "markdown",
   "metadata": {},
   "source": [
    "### Task 1: Summary Statistics"
   ]
  },
  {
   "cell_type": "markdown",
   "metadata": {},
   "source": []
  },
  {
   "cell_type": "markdown",
   "metadata": {},
   "source": [
    "### Task 2:  Visualization Essentials"
   ]
  },
  {
   "cell_type": "markdown",
   "metadata": {},
   "source": []
  },
  {
   "cell_type": "markdown",
   "metadata": {},
   "source": [
    "## Scenario 3: Deep Dive"
   ]
  },
  {
   "cell_type": "markdown",
   "metadata": {},
   "source": [
    "Your team has just finished communicating some preliminary findings to your client. They pointed out a couple of interesting trends and anomalies, and ask you to dig deeper and figure out WHY. \n",
    "\n",
    "**Learning goals:**\n",
    "- Learn how to create and utilize the powerful pivot table.\n",
    "- Get comfortable with more intermediate spreadsheet functions."
   ]
  },
  {
   "cell_type": "markdown",
   "metadata": {},
   "source": [
    "### Task 1: Merging Tables"
   ]
  },
  {
   "cell_type": "markdown",
   "metadata": {},
   "source": []
  },
  {
   "cell_type": "markdown",
   "metadata": {},
   "source": [
    "### Task 2:  Sprinkling In Some Stats"
   ]
  },
  {
   "cell_type": "markdown",
   "metadata": {},
   "source": []
  },
  {
   "cell_type": "markdown",
   "metadata": {},
   "source": [
    "### Task 3: Pivot! Pivot!"
   ]
  },
  {
   "cell_type": "markdown",
   "metadata": {},
   "source": []
  },
  {
   "cell_type": "markdown",
   "metadata": {},
   "source": [
    "## Scenario 4: Storytelling"
   ]
  },
  {
   "cell_type": "markdown",
   "metadata": {},
   "source": [
    "Congrats! Your team has reached the end of the project and you're ready to compile your findings into a presentation. How can we put together a coherent and compelling story using visualizations?\n",
    "\n",
    "**Learning goals:**\n",
    "- Develop effective and expressive visualizations.\n",
    "- Knit together a story and narrative using your visualizations."
   ]
  },
  {
   "cell_type": "markdown",
   "metadata": {},
   "source": [
    "### Task: Putting It All Together!"
   ]
  },
  {
   "cell_type": "markdown",
   "metadata": {},
   "source": []
  }
 ],
 "metadata": {
  "kernelspec": {
   "display_name": "Python 3.8.8 ('base')",
   "language": "python",
   "name": "python3"
  },
  "language_info": {
   "codemirror_mode": {
    "name": "ipython",
    "version": 3
   },
   "file_extension": ".py",
   "mimetype": "text/x-python",
   "name": "python",
   "nbconvert_exporter": "python",
   "pygments_lexer": "ipython3",
   "version": "3.8.8"
  },
  "orig_nbformat": 4,
  "vscode": {
   "interpreter": {
    "hash": "e533f058ce4d1bed51da455c677b2639d89c45d961a1b0a898af9226aa12331e"
   }
  }
 },
 "nbformat": 4,
 "nbformat_minor": 2
}
