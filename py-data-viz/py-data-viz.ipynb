{
 "cells": [
  {
   "cell_type": "markdown",
   "metadata": {},
   "source": [
    "# Portlab Data Essentials - Data Manipulation & Visualization"
   ]
  },
  {
   "cell_type": "markdown",
   "metadata": {},
   "source": [
    "## Preface"
   ]
  },
  {
   "cell_type": "markdown",
   "metadata": {},
   "source": [
    "Hello there! Glad you're joining us in the field of data!\n",
    "\n",
    "Before you start working on this tutorial, we do want to put this disclaimer out there — the exercises are created to give you an overview of the data analysis process you could expect to see in a Portlab project. Also, this tutorial strictly focuses on **data manipulation and visualization**, so we won't talk about more advanced methods, i.e., machine learning, in this tutorial yet. By no means does this tutorial cover everything you'll face throughout the project. That being said, we do expect you to have a good grasp of the essentials we touched on here, and hopefully, you'll feel more prepared to sign up for a Portlab project:)\n",
    "\n",
    "Start off the tutorial by scanning the data and reading the **problem statement**, then move on from **one scenario to another in numeric order**! Each scenario has a number of **tasks** that are split into a number of **subtasks**. You will also find **hints** and **tips** (unhide the hidden cells) that walk you through the problems.\n",
    "\n",
    "Finally, we did our best to prepare and proofread the materials, but please let us know if you spot anything erroneous, odd, unclear, or just anything you disagree with. Thank you, and hope y'all have fun and learn a few tricks from the exercises!"
   ]
  },
  {
   "cell_type": "markdown",
   "metadata": {},
   "source": [
    "## Problem Statement"
   ]
  },
  {
   "cell_type": "markdown",
   "metadata": {},
   "source": [
    "**Mr Loanly** is a financial services startup that offers personal loans. Recently, they noticed that their borrowers' average default rate has skyrocketed. However, they currently don't have the capability to conduct in-depth analyses, and they also have limited understanding of their clients. Therefore, **Mr Loanly** would like your team to help them learn about their borrowers and identify trends that might be leading to the increased default rates."
   ]
  },
  {
   "cell_type": "markdown",
   "metadata": {},
   "source": [
    "## Data"
   ]
  },
  {
   "cell_type": "markdown",
   "metadata": {},
   "source": [
    "Your team has been paired with a financial services provider, **Mr Loanly**, as a client. They have provided you with two deidentified datasets, **[loans.csv](data/loans.csv)** and **[borrowers.csv](data/borrowers.csv)**, to start off.\n",
    "\n",
    "\\* The datasets were collected from [here](https://www.kaggle.com/datasets/urstrulyvikas/lending-club-loan-data-analysis?select=loan_data.csv) and further adapted for our example."
   ]
  },
  {
   "cell_type": "code",
   "execution_count": 4,
   "metadata": {},
   "outputs": [],
   "source": [
    "import pandas as pd\n",
    "\n",
    "loans = pd.read_csv(\"data/loans.csv\")\n",
    "borrowers = pd.read_csv(\"data/borrowers.csv\")"
   ]
  },
  {
   "cell_type": "code",
   "execution_count": 5,
   "metadata": {},
   "outputs": [
    {
     "data": {
      "text/html": [
       "<div>\n",
       "<style scoped>\n",
       "    .dataframe tbody tr th:only-of-type {\n",
       "        vertical-align: middle;\n",
       "    }\n",
       "\n",
       "    .dataframe tbody tr th {\n",
       "        vertical-align: top;\n",
       "    }\n",
       "\n",
       "    .dataframe thead th {\n",
       "        text-align: right;\n",
       "    }\n",
       "</style>\n",
       "<table border=\"1\" class=\"dataframe\">\n",
       "  <thead>\n",
       "    <tr style=\"text-align: right;\">\n",
       "      <th></th>\n",
       "      <th>loan_id</th>\n",
       "      <th>borrower_id</th>\n",
       "      <th>request_date</th>\n",
       "      <th>purpose</th>\n",
       "      <th>int_rate</th>\n",
       "      <th>installment</th>\n",
       "      <th>not_fully_paid</th>\n",
       "    </tr>\n",
       "  </thead>\n",
       "  <tbody>\n",
       "    <tr>\n",
       "      <th>0</th>\n",
       "      <td>L1000</td>\n",
       "      <td>B1102</td>\n",
       "      <td>44500.0</td>\n",
       "      <td>debt_consolidation</td>\n",
       "      <td>0.1545</td>\n",
       "      <td>453.52</td>\n",
       "      <td>0</td>\n",
       "    </tr>\n",
       "    <tr>\n",
       "      <th>1</th>\n",
       "      <td>L1001</td>\n",
       "      <td>B1435</td>\n",
       "      <td>44500.0</td>\n",
       "      <td>debt_consolidation</td>\n",
       "      <td>0.1183</td>\n",
       "      <td>533.46</td>\n",
       "      <td>0</td>\n",
       "    </tr>\n",
       "    <tr>\n",
       "      <th>2</th>\n",
       "      <td>L1002</td>\n",
       "      <td>B1860</td>\n",
       "      <td>44400.0</td>\n",
       "      <td>credit_card</td>\n",
       "      <td>0.1146</td>\n",
       "      <td>197.75</td>\n",
       "      <td>1</td>\n",
       "    </tr>\n",
       "    <tr>\n",
       "      <th>3</th>\n",
       "      <td>L1003</td>\n",
       "      <td>B1270</td>\n",
       "      <td>44300.0</td>\n",
       "      <td>NaN</td>\n",
       "      <td>0.1646</td>\n",
       "      <td>106.16</td>\n",
       "      <td>0</td>\n",
       "    </tr>\n",
       "    <tr>\n",
       "      <th>4</th>\n",
       "      <td>L1004</td>\n",
       "      <td>B1106</td>\n",
       "      <td>44500.0</td>\n",
       "      <td>NaN</td>\n",
       "      <td>0.1221</td>\n",
       "      <td>159.92</td>\n",
       "      <td>0</td>\n",
       "    </tr>\n",
       "  </tbody>\n",
       "</table>\n",
       "</div>"
      ],
      "text/plain": [
       "  loan_id borrower_id  request_date             purpose  int_rate  \\\n",
       "0   L1000       B1102       44500.0  debt_consolidation    0.1545   \n",
       "1   L1001       B1435       44500.0  debt_consolidation    0.1183   \n",
       "2   L1002       B1860       44400.0         credit_card    0.1146   \n",
       "3   L1003       B1270       44300.0                 NaN    0.1646   \n",
       "4   L1004       B1106       44500.0                 NaN    0.1221   \n",
       "\n",
       "   installment  not_fully_paid  \n",
       "0       453.52               0  \n",
       "1       533.46               0  \n",
       "2       197.75               1  \n",
       "3       106.16               0  \n",
       "4       159.92               0  "
      ]
     },
     "execution_count": 5,
     "metadata": {},
     "output_type": "execute_result"
    }
   ],
   "source": [
    "loans.head()"
   ]
  },
  {
   "cell_type": "code",
   "execution_count": 6,
   "metadata": {},
   "outputs": [
    {
     "data": {
      "text/html": [
       "<div>\n",
       "<style scoped>\n",
       "    .dataframe tbody tr th:only-of-type {\n",
       "        vertical-align: middle;\n",
       "    }\n",
       "\n",
       "    .dataframe tbody tr th {\n",
       "        vertical-align: top;\n",
       "    }\n",
       "\n",
       "    .dataframe thead th {\n",
       "        text-align: right;\n",
       "    }\n",
       "</style>\n",
       "<table border=\"1\" class=\"dataframe\">\n",
       "  <thead>\n",
       "    <tr style=\"text-align: right;\">\n",
       "      <th></th>\n",
       "      <th>borrower_id</th>\n",
       "      <th>credit_policy</th>\n",
       "      <th>log_annual_inc</th>\n",
       "      <th>dti</th>\n",
       "      <th>fico</th>\n",
       "      <th>days_with_cr_line</th>\n",
       "      <th>revol_bal</th>\n",
       "      <th>revol_util</th>\n",
       "      <th>inq_last_6mths</th>\n",
       "      <th>delinq_2yrs</th>\n",
       "      <th>pub_rec</th>\n",
       "    </tr>\n",
       "  </thead>\n",
       "  <tbody>\n",
       "    <tr>\n",
       "      <th>0</th>\n",
       "      <td>B1102</td>\n",
       "      <td>0</td>\n",
       "      <td>10.596635</td>\n",
       "      <td>14.52</td>\n",
       "      <td>657</td>\n",
       "      <td>3810.00000</td>\n",
       "      <td>8545</td>\n",
       "      <td>82.2</td>\n",
       "      <td>3</td>\n",
       "      <td>0</td>\n",
       "      <td>0</td>\n",
       "    </tr>\n",
       "    <tr>\n",
       "      <th>1</th>\n",
       "      <td>B1435</td>\n",
       "      <td>1</td>\n",
       "      <td>11.156251</td>\n",
       "      <td>10.89</td>\n",
       "      <td>732</td>\n",
       "      <td>3600.00000</td>\n",
       "      <td>15942</td>\n",
       "      <td>40.9</td>\n",
       "      <td>3</td>\n",
       "      <td>0</td>\n",
       "      <td>0</td>\n",
       "    </tr>\n",
       "    <tr>\n",
       "      <th>2</th>\n",
       "      <td>B1860</td>\n",
       "      <td>1</td>\n",
       "      <td>10.348173</td>\n",
       "      <td>13.73</td>\n",
       "      <td>692</td>\n",
       "      <td>2069.95833</td>\n",
       "      <td>14154</td>\n",
       "      <td>85.8</td>\n",
       "      <td>0</td>\n",
       "      <td>0</td>\n",
       "      <td>0</td>\n",
       "    </tr>\n",
       "    <tr>\n",
       "      <th>3</th>\n",
       "      <td>B1270</td>\n",
       "      <td>0</td>\n",
       "      <td>11.002100</td>\n",
       "      <td>28.16</td>\n",
       "      <td>672</td>\n",
       "      <td>6480.04167</td>\n",
       "      <td>7846</td>\n",
       "      <td>25.8</td>\n",
       "      <td>4</td>\n",
       "      <td>1</td>\n",
       "      <td>0</td>\n",
       "    </tr>\n",
       "    <tr>\n",
       "      <th>4</th>\n",
       "      <td>B1106</td>\n",
       "      <td>1</td>\n",
       "      <td>11.127322</td>\n",
       "      <td>3.99</td>\n",
       "      <td>702</td>\n",
       "      <td>5040.00000</td>\n",
       "      <td>468</td>\n",
       "      <td>7.2</td>\n",
       "      <td>1</td>\n",
       "      <td>1</td>\n",
       "      <td>0</td>\n",
       "    </tr>\n",
       "  </tbody>\n",
       "</table>\n",
       "</div>"
      ],
      "text/plain": [
       "  borrower_id  credit_policy  log_annual_inc    dti  fico  days_with_cr_line  \\\n",
       "0       B1102              0       10.596635  14.52   657         3810.00000   \n",
       "1       B1435              1       11.156251  10.89   732         3600.00000   \n",
       "2       B1860              1       10.348173  13.73   692         2069.95833   \n",
       "3       B1270              0       11.002100  28.16   672         6480.04167   \n",
       "4       B1106              1       11.127322   3.99   702         5040.00000   \n",
       "\n",
       "   revol_bal  revol_util  inq_last_6mths  delinq_2yrs  pub_rec  \n",
       "0       8545        82.2               3            0        0  \n",
       "1      15942        40.9               3            0        0  \n",
       "2      14154        85.8               0            0        0  \n",
       "3       7846        25.8               4            1        0  \n",
       "4        468         7.2               1            1        0  "
      ]
     },
     "execution_count": 6,
     "metadata": {},
     "output_type": "execute_result"
    }
   ],
   "source": [
    "borrowers.head()"
   ]
  },
  {
   "cell_type": "markdown",
   "metadata": {},
   "source": [
    "## Scenario 1: Navigating Ambiguity"
   ]
  },
  {
   "cell_type": "markdown",
   "metadata": {},
   "source": [
    "You are handed some datasets at the start of your Portlab project. However, your client didn't have time to clean up the data for you and a lot of the cells seem to be empty. How many potential issues can you spot in the data provided here?\n",
    "\n",
    "**Learning goals:**\n",
    "- Understand that real-world data WILL be messy and requires back-and-forth communication.\n",
    "- Learn how to perform basic data cleaning and deal with missing data."
   ]
  },
  {
   "cell_type": "markdown",
   "metadata": {},
   "source": [
    "### Task 1: Understanding the Data"
   ]
  },
  {
   "cell_type": "markdown",
   "metadata": {},
   "source": [
    "After you understand WHY you're doing the analysis, it's time to find out WHAT you're trying to analyze. However, clients might not always have this information put on a plate for you. That's why you should always communicate with your client and put together a documentation (a so-called data dictionary) of what each data point represents. This might seem tedious, but equivocality may prove to be detrimental to your team's entire analysis, and even more so if you're dealing with an unfamiliar industry. **Unhide the cells below** to see the data dictionary we've prepared for you (you'll be on your own in your projects!)."
   ]
  },
  {
   "cell_type": "markdown",
   "metadata": {},
   "source": [
    "#### Data Dictionary"
   ]
  },
  {
   "cell_type": "markdown",
   "metadata": {},
   "source": [
    "**loans.csv**\n",
    "| Field | Data Type | Description |\n",
    "| --- | --- | --- |\n",
    "| loan_id | text | The unique identifier for the loan. |\n",
    "| borrower_id | text | The unique identifier for the borrower. |\n",
    "| request_date | date | The request date of the loan. |\n",
    "| purpose | text | The purpose of the loan (takes values \"creditcard\", \"debtconsolidation\", \"educational\", \"majorpurchase\", \"smallbusiness\", and \"all_other\"). |\n",
    "| int_rate | number (float) | The interest rate of the loan, as a proportion (a rate of 11% would be stored as 0.11). Borrowers judged to be more risky are assigned higher interest rates. |\n",
    "| installment | number (integer) | The monthly installments owed by the borrower if the loan is funded. |\n",
    "| not_fully_paid | number (boolean)\t| 1 if the borrower paid back the loan, and 0 if otherwise. |"
   ]
  },
  {
   "cell_type": "markdown",
   "metadata": {},
   "source": [
    "**borrowers.csv**\n",
    "| Field | Data Type | Description |\n",
    "| --- | --- | --- |\n",
    "| borrower_id | text | The unique identifier for the borrower. |\n",
    "| credit_policy | number (boolean) | 1 if the customer meets the credit underwriting criteria, and 0 if otherwise. |\n",
    "| log_annual_inc | number (float) | The natural log of the self-reported annual income of the borrower. |\n",
    "| dti | number (float) | The debt-to-income ratio of the borrower (amount of debt divided by annual income). |\n",
    "| fico | number (integer) | The FICO credit score of the borrower. |\n",
    "| days_with_cr_line | number (float) | The number of days the borrower has had a credit line. |\n",
    "| revol_bal | number (integer) | The borrower's revolving balance (amount unpaid at the end of the credit card billing cycle). |\n",
    "| revol_util | number (float) | The borrower's revolving line utilization rate (the amount of the credit line used relative to total credit available). |\n",
    "| inq_last_6mths | number (integer) | The borrower's number of inquiries by creditors in the last 6 months. |\n",
    "| delinq_2yrs | number (integer) | The number of times the borrower had been 30+ days past due on a payment in the past 2 years. |\n",
    "| pub_rec | number (integer) | The borrower's number of derogatory public records (bankruptcy filings, tax liens, or judgments). |"
   ]
  },
  {
   "cell_type": "markdown",
   "metadata": {},
   "source": [
    "**Note:** all values for each borrower are consistent across loans for the sake of simplicity"
   ]
  },
  {
   "cell_type": "code",
   "execution_count": null,
   "metadata": {},
   "outputs": [],
   "source": []
  },
  {
   "cell_type": "markdown",
   "metadata": {},
   "source": [
    "### Task 2: Missing Data"
   ]
  },
  {
   "cell_type": "markdown",
   "metadata": {},
   "source": [
    "One of the first things you might notice in the datasets is probably the blank cells. This is a tricky issue that rarely has a \"perfect\" response, but there are ways to compensate their absense. When faced with this dilemma, your first question should always be — why is this data missing? It could very much so be an error, but it's also possible that it's left blank intentionally. This [article](https://towardsdatascience.com/6-different-ways-to-compensate-for-missing-values-data-imputation-with-examples-6022d9ca0779) lists out some of the most common approaches for dealing with missing data. Try to figure out the most appropriate approach for our situation and implement it!"
   ]
  },
  {
   "cell_type": "markdown",
   "metadata": {},
   "source": [
    "#### Task 1-2-1"
   ]
  },
  {
   "cell_type": "markdown",
   "metadata": {},
   "source": [
    "The first column with missing data is the **purpose** column in **loans.csv**. If you look at the data dictionary, you'll find out that there's a category called \"all_others\" in the column. As it turns out, this is a system error and the blanks should all be replaced with \"all_others\".\n",
    "\n",
    "How might you implement this?"
   ]
  },
  {
   "cell_type": "code",
   "execution_count": null,
   "metadata": {},
   "outputs": [],
   "source": []
  },
  {
   "cell_type": "markdown",
   "metadata": {},
   "source": [
    "#### Task 1-2-2"
   ]
  },
  {
   "cell_type": "markdown",
   "metadata": {},
   "source": [
    "The second column we need to deal with is the **log_annual_inc** column in **borrowers.csv**. After checking with Mr Loanly, they tell you that their system is unable to process the values correctly if the borrowers inputted invalid values in the first place.\n",
    "\n",
    "What should you do with these missing values?"
   ]
  },
  {
   "cell_type": "code",
   "execution_count": null,
   "metadata": {},
   "outputs": [],
   "source": []
  },
  {
   "cell_type": "markdown",
   "metadata": {},
   "source": [
    "### Task 3: Detecting Anomalies"
   ]
  },
  {
   "cell_type": "markdown",
   "metadata": {},
   "source": [
    "Great job filling out the missing data! Next up, we would want to check if there is any invalid data. Some cases are more obvious, some are less so. See if you can spot them, gotta catch em all!"
   ]
  },
  {
   "cell_type": "markdown",
   "metadata": {},
   "source": [
    "#### Task 1-3-1"
   ]
  },
  {
   "cell_type": "markdown",
   "metadata": {},
   "source": [
    "One of the required changes relates to the data types of the columns. Data comes in all shapes and sizes, check out this [article](https://amplitude.com/blog/data-types) for an overview.\n",
    "\n",
    "Use the [data dictionary](#data-dictionary) to figure out which column seems off!"
   ]
  },
  {
   "cell_type": "markdown",
   "metadata": {},
   "source": [
    "#### Task 1-3-2"
   ]
  },
  {
   "cell_type": "markdown",
   "metadata": {},
   "source": [
    "Some invalid values may be more obscure and require prior knowledge of the data to detect. For example, a 3000 SAT score is impossible to obtain.\n",
    "\n",
    "Can you find the column in **borrowers.csv** that has a similar issue?"
   ]
  },
  {
   "cell_type": "markdown",
   "metadata": {},
   "source": [
    "#### Task 1-3-3"
   ]
  },
  {
   "cell_type": "markdown",
   "metadata": {},
   "source": [
    "Finally, we might want to check for potential [outliers](https://en.wikipedia.org/wiki/Outlier). One of the most common ways to detect outliers is the use of [interquartile range](https://en.wikipedia.org/wiki/Outlier#Tukey's_fences:~:text=15%5D%5B16%5D-,Tukey%27s%20fences,-%5Bedit%5D) (IQR). Suppose Q1 is the first quartile of a column and Q3 is the third, then $IQR = Q3 - Q1$. A rule of thumb is that any value larger than $Q3 + 1.5 * IQR$ or smaller than $Q1 - 1.5 * IQR$ should be considered as outliers. If we substitute 1.5 with 3, then the values would be extreme outliers.\n",
    "\n",
    "There's a column in **loans.csv** that has extreme values, try detecting the rows with values exceeding the upper extreme outlier threshold (i.e., $Q3 + 3 * IQR$) within that column and changing the values to the median instead."
   ]
  },
  {
   "cell_type": "code",
   "execution_count": null,
   "metadata": {},
   "outputs": [],
   "source": []
  },
  {
   "cell_type": "markdown",
   "metadata": {},
   "source": [
    "### Task 4: Standardizing Formats"
   ]
  },
  {
   "cell_type": "markdown",
   "metadata": {},
   "source": [
    "We're almost there! One last thing we need to address here is the data formats, specifically for categorical variables (i.e., columns with text data types) in our case. It is critical to standardize the format of each variable early on, as this will affect the accuracy of our later analyses."
   ]
  },
  {
   "cell_type": "markdown",
   "metadata": {},
   "source": [
    "#### Task 1-4-1"
   ]
  },
  {
   "cell_type": "markdown",
   "metadata": {},
   "source": []
  },
  {
   "cell_type": "code",
   "execution_count": null,
   "metadata": {},
   "outputs": [],
   "source": []
  },
  {
   "cell_type": "markdown",
   "metadata": {},
   "source": [
    "### On to the Next!"
   ]
  },
  {
   "cell_type": "markdown",
   "metadata": {},
   "source": [
    "Congrats! You've completed arguably the most tedious part of the data analysis process — data cleaning. What we covered here is only the tip of the iceberg of what you'll encounter in real-world data, but you should have a better idea of what to expect! Now that we have some clean data, it's time to actually examine it! Please run the cell below to load in the **[loans_full.csv](data/loans_full.csv)** and **[borrowers_full.csv](data/borrowers_full.csv)** datasets, as we will be using them instead moving forward."
   ]
  },
  {
   "cell_type": "code",
   "execution_count": 3,
   "metadata": {},
   "outputs": [],
   "source": [
    "loans_full = pd.read_csv(\"data/loans_full.csv\")\n",
    "borrowers_full = pd.read_csv(\"data/borrowers_full.csv\")"
   ]
  },
  {
   "cell_type": "markdown",
   "metadata": {},
   "source": [
    "## Scenario 2: EDA"
   ]
  },
  {
   "cell_type": "markdown",
   "metadata": {},
   "source": [
    "You've finished cleaning the data. Now what? Try to gain a basic understanding of the dataset through some visualizations!\n",
    "\n",
    "**Learning goals:**\n",
    "- Learn how to perform a basic exploratory data analysis (EDA).\n",
    "- Grasp the basic principles of data visualization.\n",
    "- Expand your Google Sheets vocabulary and brush up on basic functions."
   ]
  },
  {
   "cell_type": "markdown",
   "metadata": {},
   "source": [
    "### Task 1: Summary Statistics"
   ]
  },
  {
   "cell_type": "markdown",
   "metadata": {},
   "source": [
    "Before getting nose-deep into the data, it's always beneficial to calculate some [summary statistics](https://en.wikipedia.org/wiki/Summary_statistics) to get a better feel for the data. This process very well might dictate how you approach the data moving forward, and it opens up a number of questions you can inquire of your client in the kickoff meeting."
   ]
  },
  {
   "cell_type": "code",
   "execution_count": null,
   "metadata": {},
   "outputs": [],
   "source": []
  },
  {
   "cell_type": "markdown",
   "metadata": {},
   "source": [
    "### Task 2:  Visualization Essentials"
   ]
  },
  {
   "cell_type": "markdown",
   "metadata": {},
   "source": [
    "Visualizations are absolutely essential to your analysis, regardless of the type of projects you work on. It's impossible to detail what makes a good visualization here, but remember to ask yourself these questions as you're creating visualizations:\n",
    "\n",
    "- **Who** is this visualization intended for? **What** does my audience care about the most?\n",
    "- **What** am I trying to convey through this visualization? **What** should be my audience's main takeaway?\n",
    "- **How well** is this visualization conveying the message? Are there any details that could potentially be misleading, confusing, or difficult to interpret either visually or cognitively?\n",
    "\n",
    "There are tens and hundreds of types of visualizations out there (see [here](https://datavizcatalogue.com/) for a great list), each suitable for different situations and [variable types](https://support.minitab.com/en-us/minitab/21/help-and-how-to/statistical-modeling/regression/supporting-topics/basics/what-are-categorical-discrete-and-continuous-variables/). There is no one-size-fits-all solution when it comes to visualization. Here, we will focus on some fundamental visualizations – **bar charts**, **box plots**, **scatter plots**, and **line charts**."
   ]
  },
  {
   "cell_type": "code",
   "execution_count": null,
   "metadata": {},
   "outputs": [],
   "source": []
  },
  {
   "cell_type": "markdown",
   "metadata": {},
   "source": [
    "### Here Comes the Fun Part!"
   ]
  },
  {
   "cell_type": "markdown",
   "metadata": {},
   "source": [
    "EDA never seems too \"exciting,\" but make no mistake about its importance – it is indispensable. **Detailed**, **informative**, and **visually appealing** visualizations will undoubtedly help lure your clients into your narrative and remaining analysis. Now that we have the essentials in our toolbox, let's move on to some more intermediate analysis!"
   ]
  },
  {
   "cell_type": "markdown",
   "metadata": {},
   "source": [
    "## Scenario 3: Deep Dive"
   ]
  },
  {
   "cell_type": "markdown",
   "metadata": {},
   "source": [
    "Your team has just finished communicating some preliminary findings to your client. They pointed out a couple of interesting trends and anomalies, and ask you to dig deeper and figure out WHY. \n",
    "\n",
    "**Learning goals:**\n",
    "- Learn how to create and utilize the powerful pivot table.\n",
    "- Get comfortable with more intermediate spreadsheet functions."
   ]
  },
  {
   "cell_type": "markdown",
   "metadata": {},
   "source": [
    "### Task 1: Merging Tables"
   ]
  },
  {
   "cell_type": "code",
   "execution_count": null,
   "metadata": {},
   "outputs": [],
   "source": []
  },
  {
   "cell_type": "markdown",
   "metadata": {},
   "source": [
    "### Task 2:  Sprinkling In Some Stats"
   ]
  },
  {
   "cell_type": "code",
   "execution_count": null,
   "metadata": {},
   "outputs": [],
   "source": []
  },
  {
   "cell_type": "markdown",
   "metadata": {},
   "source": [
    "### Task 3: Pivot! Pivot!"
   ]
  },
  {
   "cell_type": "code",
   "execution_count": null,
   "metadata": {},
   "outputs": [],
   "source": []
  },
  {
   "cell_type": "markdown",
   "metadata": {},
   "source": [
    "### We're in the Endgame Now!"
   ]
  },
  {
   "cell_type": "markdown",
   "metadata": {},
   "source": [
    "Now that you've merged the datasets and completed further analysis using statistical functions and pivot tables, you should start thinking about the final presentation! How can we convey findings concisely and persuasively in a presentation? Let's find out together in the final scenario!"
   ]
  },
  {
   "cell_type": "markdown",
   "metadata": {},
   "source": [
    "## Scenario 4: Storytelling"
   ]
  },
  {
   "cell_type": "markdown",
   "metadata": {},
   "source": [
    "Congrats! Your team has reached the end of the project and you're ready to compile your findings into a presentation. How can we put together a coherent and compelling story using visualizations?\n",
    "\n",
    "**Learning goals:**\n",
    "- Develop effective and expressive visualizations.\n",
    "- Knit together a story and narrative using your visualizations."
   ]
  },
  {
   "cell_type": "markdown",
   "metadata": {},
   "source": [
    "### Task: Putting It All Together!"
   ]
  },
  {
   "cell_type": "markdown",
   "metadata": {},
   "source": [
    "Manipulating data the right way and picking the right visualizations are obviously important, but it [all won't matter](https://mitsloan.mit.edu/ideas-made-to-matter/next-chapter-analytics-data-storytelling) if you don't put together a compelling story in the end. Therefore, this is something your team should start thinking about from the very beginning of your project. Remember, visualizations and stats are only there to support your findings, and they shouldn't be the entirety of your analysis. This [article](https://online.hbs.edu/blog/post/data-storytelling) sums up what makes a good data story quite nicely. At the minimum, it should at least include:\n",
    "\n",
    "- **Background:** Who is involved? What is happening? Use some summary statistics and basic visualizations to carry out these points. For example: From this line chart, we can notice an uptick in default rates in recent months.\n",
    "- **Issue:** Why might this be happening? Create pivot tables and more comprehensive visualizations to point out trends in the data. Even better, you can use intermediate statistics, e.g., a logistic regression model to explain which variables are main contributors to default.\n",
    "- **Solution:** How might we resolve this? Building on our analysis, which aspects should we look to improve on? What are we doing well? If we were to make some adjustments, whom should we target?\n",
    "\n",
    "When you run out of ideas (happens to the best of us), here are some great examples you can check out while you're knitting together the story for your presentation:\n",
    "\n",
    "- **[FiveThirtyEight](https://fivethirtyeight.com/):** FiveThirtyEight is a journalism website that has some of the most creative visualizations and data stories out there. Great site for some inspiration!\n",
    "- **[storytelling with data](https://www.storytellingwithdata.com/blog) (SWD):** SWD regularly publishes blog articles regarding data visualization and data storytelling.\n",
    "- **[The Pudding](https://pudding.cool/):** The Pudding is another journalism site that produces creative, interaction-focused visual essays.\n",
    "- **[Kaggle EDA Notebook](https://www.kaggle.com/code/pmarcelino/comprehensive-data-exploration-with-python/notebook):** Kaggle is probably the largest data science community, and you can also find and learn from other people's work. This notebook gives a terrific example of how EDA can be done in Python. Definitely check out more notebooks on Kaggle as well!"
   ]
  },
  {
   "cell_type": "markdown",
   "metadata": {},
   "source": [
    "### What's Next?"
   ]
  },
  {
   "cell_type": "markdown",
   "metadata": {},
   "source": [
    "Kudos to you for completing this module, especially if this was your first time hearing about some of the aforementioned concepts! You are well on your way to becoming a data professional! However, you still have a lot ahead of you on your journey in data. Here are some suggestions on where to start:\n",
    "\n",
    "- **Programming (Python, R):** \n",
    "- **Statistics & Math:** Statistics, probability, and just math in general are essential for any data professional, and you should definitely take advantage of the courses available at U-M while you're here. Without utilizing statistics in some shape or form, we won't be able to dig deeper into the problem. In our scenario, for example, **[regression](https://en.wikipedia.org/wiki/Regression_analysis)** would be a powerful tool to better understand and explain the default rate spike. To design experiments and draw causal relationships, learning about **[hypothesis testing](https://en.wikipedia.org/wiki/Statistical_hypothesis_testing)** and a few **[statistical inference](https://en.wikipedia.org/wiki/Statistical_inference)** methods is a must. If we want to move one step further and predict defaults, **[machine learning](https://en.wikipedia.org/wiki/Machine_learning)** would be the way to go, which again, would require some basic knowledge of **[linear algebra](https://en.wikipedia.org/wiki/Linear_algebra)**.\n",
    "- **Data Management (SQL):** SQL will be an essential tool in almost any data-related role, so you'll be in a good spot if you learn it early on! [SQLBolt](https://sqlbolt.com/) is a personal favorite, because it's interactive and to the point. If you prefer videos over text, here is a [course](https://www.linkedin.com/learning/sql-essential-training-3/understanding-sql) on LinkedIn Learning you could consider taking.\n",
    "- **Data Visualization:** This [Coursera course](https://www.coursera.org/learn/datavisualization#syllabus) provides a general introduction on visualization theories. If you're looking to gain more hands-on experience, [Tableau](https://www.tableau.com/learn/training/20222) is a good place to get started. As a student, you can get a free Tableau licence [here](https://www.tableau.com/academic/students). Dash\n",
    "\n",
    "Onwards! We look forward to seeing you in our projects!"
   ]
  }
 ],
 "metadata": {
  "jupytext": {
   "formats": "ipynb,md:myst"
  },
  "kernelspec": {
   "display_name": "Python 3 (ipykernel)",
   "language": "python",
   "name": "python3"
  },
  "language_info": {
   "codemirror_mode": {
    "name": "ipython",
    "version": 3
   },
   "file_extension": ".py",
   "mimetype": "text/x-python",
   "name": "python",
   "nbconvert_exporter": "python",
   "pygments_lexer": "ipython3",
   "version": "3.8.8"
  },
  "vscode": {
   "interpreter": {
    "hash": "e533f058ce4d1bed51da455c677b2639d89c45d961a1b0a898af9226aa12331e"
   }
  }
 },
 "nbformat": 4,
 "nbformat_minor": 2
}
